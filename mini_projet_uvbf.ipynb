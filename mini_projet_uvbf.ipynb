{
 "cells": [
  {
   "cell_type": "markdown",
   "id": "f6120e27",
   "metadata": {},
   "source": [
    "<center>\n",
    "<a href=\"https://uv.bf/\" target=\"_parent\"><img src=\"logo.png\" alt=\"\" width=\"200\" height=\"240\"/></a>\n",
    "</center>"
   ]
  },
  {
   "cell_type": "markdown",
   "id": "a31baf0b",
   "metadata": {},
   "source": [
    "### Mini Projet – Traitement de Données avec Python - Pandas"
   ]
  },
  {
   "cell_type": "markdown",
   "id": "4a11d180",
   "metadata": {},
   "source": [
    "#### Le but de cet exercice est d'extraire un sous-ensemble de données à partir d'une base de données existantes"
   ]
  },
  {
   "cell_type": "markdown",
   "id": "fe988a18",
   "metadata": {},
   "source": [
    "Supposons que vous ayez besoin de réaliser une application qui prend en entrée, des noms\n",
    "de lieux du Burkina Faso, avec des informations telles que la latitude/longitude.\n",
    "Pour ce faire, nous décidons d'extraire ces informations à partir du server de référencement\n",
    "géoname (http://www.geonames.org/). Vous allez procéder de la façon suivante :"
   ]
  },
  {
   "cell_type": "markdown",
   "id": "84983320",
   "metadata": {},
   "source": [
    "##### 1. Exporter la base de données qui recense les informations sur le Burkina Faso\n",
    "(https://download.geonames.org/export/dump/).\n",
    "##### ◦ Pour ce faire, reférez-vous au Readme, décrit à la fin de la page pour identifier le code iso correspondant à celui du Burkina Faso"
   ]
  },
  {
   "cell_type": "markdown",
   "id": "206f3b6e",
   "metadata": {},
   "source": [
    "##### 2. Télécharger le fichier zip correspondant"
   ]
  },
  {
   "cell_type": "markdown",
   "id": "064a55d4",
   "metadata": {},
   "source": [
    "##### 3. Appliquer les opérations de prétraitement et filtres nécessaires à ce fichier, pour ne garder que les colonnes correspondantes :"
   ]
  },
  {
   "cell_type": "code",
   "execution_count": 1,
   "id": "0d354f17",
   "metadata": {},
   "outputs": [],
   "source": [
    "import numpy as np\n",
    "import pandas as pd\n",
    "path=\"\"\n",
    "data = pd.read_csv(path+\"BF.txt\", sep=\"\\t\", header = None)"
   ]
  },
  {
   "cell_type": "code",
   "execution_count": 2,
   "id": "e0ad58e8",
   "metadata": {},
   "outputs": [
    {
     "name": "stdout",
     "output_type": "stream",
     "text": [
      "             0          1          2    3         4        5  6    7   8   \\\n",
      "0       2353158   Zyonguen   Zyonguen  NaN  12.36667 -0.45000  P  PPL  BF   \n",
      "1       2353159  Zyiliwèlè  Zyiliwele  NaN  12.38333 -2.73333  P  PPL  BF   \n",
      "2       2353160     Zyanko     Zyanko  NaN  12.78333 -0.41667  P  PPL  BF   \n",
      "3       2353161      Zouta      Zouta  NaN  13.14908 -1.28197  P  PPL  BF   \n",
      "4       2353162  Zourtenga  Zourtenga  NaN  12.95741 -1.28745  P  PPL  BF   \n",
      "...         ...        ...        ...  ...       ...      ... ..  ...  ..   \n",
      "11290  12358654   Koulholé   Koulhole  NaN  13.43898 -1.16817  P  PPL  BF   \n",
      "11291  12358655     Palboa     Palboa  NaN  11.82653  1.65093  P  PPL  BF   \n",
      "11292  12358656  Timambari  Timambari  NaN  11.84209  1.67023  P  PPL  BF   \n",
      "11293  12358657  Nagbingou  Nagbingou  NaN  13.55244 -0.46760  P  PPL  BF   \n",
      "11294  12358665   Niamango   Niamango  NaN   9.82967 -4.33708  P  PPL  BF   \n",
      "\n",
      "        9   10    11  12  13  14  15   16                  17          18  \n",
      "0      NaN  04   NaN NaN NaN   0 NaN  293  Africa/Ouagadougou  2012-06-05  \n",
      "1      NaN  06   NaN NaN NaN   0 NaN  277  Africa/Ouagadougou  2012-06-05  \n",
      "2      NaN  05   NaN NaN NaN   0 NaN  301  Africa/Ouagadougou  2012-06-05  \n",
      "3      NaN  05  70.0 NaN NaN   0 NaN  306  Africa/Ouagadougou  2010-07-31  \n",
      "4      NaN  05   NaN NaN NaN   0 NaN  290  Africa/Ouagadougou  2018-09-05  \n",
      "...    ...  ..   ...  ..  ..  ..  ..  ...                 ...         ...  \n",
      "11290  NaN  05  70.0 NaN NaN   0 NaN  304  Africa/Ouagadougou  2021-10-23  \n",
      "11291  NaN  08  42.0 NaN NaN   0 NaN  261  Africa/Ouagadougou  2021-10-23  \n",
      "11292  NaN  08  42.0 NaN NaN   0 NaN  298  Africa/Ouagadougou  2021-10-23  \n",
      "11293  NaN  05  64.0 NaN NaN   0 NaN  275  Africa/Ouagadougou  2021-10-23  \n",
      "11294  NaN  02  55.0 NaN NaN   0 NaN  299  Africa/Ouagadougou  2021-10-24  \n",
      "\n",
      "[11295 rows x 19 columns]\n"
     ]
    }
   ],
   "source": [
    "print(data)"
   ]
  },
  {
   "cell_type": "markdown",
   "id": "00ddb252",
   "metadata": {},
   "source": [
    "###### ◦ Identifiants, Noms de lieux, latitudes, longitudes"
   ]
  },
  {
   "cell_type": "code",
   "execution_count": 3,
   "id": "b1b42987",
   "metadata": {},
   "outputs": [
    {
     "data": {
      "text/html": [
       "<div>\n",
       "<style scoped>\n",
       "    .dataframe tbody tr th:only-of-type {\n",
       "        vertical-align: middle;\n",
       "    }\n",
       "\n",
       "    .dataframe tbody tr th {\n",
       "        vertical-align: top;\n",
       "    }\n",
       "\n",
       "    .dataframe thead th {\n",
       "        text-align: right;\n",
       "    }\n",
       "</style>\n",
       "<table border=\"1\" class=\"dataframe\">\n",
       "  <thead>\n",
       "    <tr style=\"text-align: right;\">\n",
       "      <th></th>\n",
       "      <th>0</th>\n",
       "      <th>1</th>\n",
       "      <th>4</th>\n",
       "      <th>5</th>\n",
       "    </tr>\n",
       "  </thead>\n",
       "  <tbody>\n",
       "    <tr>\n",
       "      <th>0</th>\n",
       "      <td>2353158</td>\n",
       "      <td>Zyonguen</td>\n",
       "      <td>12.36667</td>\n",
       "      <td>-0.45000</td>\n",
       "    </tr>\n",
       "    <tr>\n",
       "      <th>1</th>\n",
       "      <td>2353159</td>\n",
       "      <td>Zyiliwèlè</td>\n",
       "      <td>12.38333</td>\n",
       "      <td>-2.73333</td>\n",
       "    </tr>\n",
       "    <tr>\n",
       "      <th>2</th>\n",
       "      <td>2353160</td>\n",
       "      <td>Zyanko</td>\n",
       "      <td>12.78333</td>\n",
       "      <td>-0.41667</td>\n",
       "    </tr>\n",
       "    <tr>\n",
       "      <th>3</th>\n",
       "      <td>2353161</td>\n",
       "      <td>Zouta</td>\n",
       "      <td>13.14908</td>\n",
       "      <td>-1.28197</td>\n",
       "    </tr>\n",
       "    <tr>\n",
       "      <th>4</th>\n",
       "      <td>2353162</td>\n",
       "      <td>Zourtenga</td>\n",
       "      <td>12.95741</td>\n",
       "      <td>-1.28745</td>\n",
       "    </tr>\n",
       "    <tr>\n",
       "      <th>...</th>\n",
       "      <td>...</td>\n",
       "      <td>...</td>\n",
       "      <td>...</td>\n",
       "      <td>...</td>\n",
       "    </tr>\n",
       "    <tr>\n",
       "      <th>11290</th>\n",
       "      <td>12358654</td>\n",
       "      <td>Koulholé</td>\n",
       "      <td>13.43898</td>\n",
       "      <td>-1.16817</td>\n",
       "    </tr>\n",
       "    <tr>\n",
       "      <th>11291</th>\n",
       "      <td>12358655</td>\n",
       "      <td>Palboa</td>\n",
       "      <td>11.82653</td>\n",
       "      <td>1.65093</td>\n",
       "    </tr>\n",
       "    <tr>\n",
       "      <th>11292</th>\n",
       "      <td>12358656</td>\n",
       "      <td>Timambari</td>\n",
       "      <td>11.84209</td>\n",
       "      <td>1.67023</td>\n",
       "    </tr>\n",
       "    <tr>\n",
       "      <th>11293</th>\n",
       "      <td>12358657</td>\n",
       "      <td>Nagbingou</td>\n",
       "      <td>13.55244</td>\n",
       "      <td>-0.46760</td>\n",
       "    </tr>\n",
       "    <tr>\n",
       "      <th>11294</th>\n",
       "      <td>12358665</td>\n",
       "      <td>Niamango</td>\n",
       "      <td>9.82967</td>\n",
       "      <td>-4.33708</td>\n",
       "    </tr>\n",
       "  </tbody>\n",
       "</table>\n",
       "<p>11295 rows × 4 columns</p>\n",
       "</div>"
      ],
      "text/plain": [
       "              0          1         4        5\n",
       "0       2353158   Zyonguen  12.36667 -0.45000\n",
       "1       2353159  Zyiliwèlè  12.38333 -2.73333\n",
       "2       2353160     Zyanko  12.78333 -0.41667\n",
       "3       2353161      Zouta  13.14908 -1.28197\n",
       "4       2353162  Zourtenga  12.95741 -1.28745\n",
       "...         ...        ...       ...      ...\n",
       "11290  12358654   Koulholé  13.43898 -1.16817\n",
       "11291  12358655     Palboa  11.82653  1.65093\n",
       "11292  12358656  Timambari  11.84209  1.67023\n",
       "11293  12358657  Nagbingou  13.55244 -0.46760\n",
       "11294  12358665   Niamango   9.82967 -4.33708\n",
       "\n",
       "[11295 rows x 4 columns]"
      ]
     },
     "execution_count": 3,
     "metadata": {},
     "output_type": "execute_result"
    }
   ],
   "source": [
    "data1=data.iloc[:,[0,1,4,5]]\n",
    "data1"
   ]
  },
  {
   "cell_type": "code",
   "execution_count": 4,
   "id": "5d083902",
   "metadata": {},
   "outputs": [
    {
     "data": {
      "text/html": [
       "<div>\n",
       "<style scoped>\n",
       "    .dataframe tbody tr th:only-of-type {\n",
       "        vertical-align: middle;\n",
       "    }\n",
       "\n",
       "    .dataframe tbody tr th {\n",
       "        vertical-align: top;\n",
       "    }\n",
       "\n",
       "    .dataframe thead th {\n",
       "        text-align: right;\n",
       "    }\n",
       "</style>\n",
       "<table border=\"1\" class=\"dataframe\">\n",
       "  <thead>\n",
       "    <tr style=\"text-align: right;\">\n",
       "      <th></th>\n",
       "      <th>Identifiants</th>\n",
       "      <th>Noms de lieux</th>\n",
       "      <th>latitudes</th>\n",
       "      <th>longitudes</th>\n",
       "    </tr>\n",
       "  </thead>\n",
       "  <tbody>\n",
       "    <tr>\n",
       "      <th>0</th>\n",
       "      <td>2353158</td>\n",
       "      <td>Zyonguen</td>\n",
       "      <td>12.36667</td>\n",
       "      <td>-0.45000</td>\n",
       "    </tr>\n",
       "    <tr>\n",
       "      <th>1</th>\n",
       "      <td>2353159</td>\n",
       "      <td>Zyiliwèlè</td>\n",
       "      <td>12.38333</td>\n",
       "      <td>-2.73333</td>\n",
       "    </tr>\n",
       "    <tr>\n",
       "      <th>2</th>\n",
       "      <td>2353160</td>\n",
       "      <td>Zyanko</td>\n",
       "      <td>12.78333</td>\n",
       "      <td>-0.41667</td>\n",
       "    </tr>\n",
       "    <tr>\n",
       "      <th>3</th>\n",
       "      <td>2353161</td>\n",
       "      <td>Zouta</td>\n",
       "      <td>13.14908</td>\n",
       "      <td>-1.28197</td>\n",
       "    </tr>\n",
       "    <tr>\n",
       "      <th>4</th>\n",
       "      <td>2353162</td>\n",
       "      <td>Zourtenga</td>\n",
       "      <td>12.95741</td>\n",
       "      <td>-1.28745</td>\n",
       "    </tr>\n",
       "    <tr>\n",
       "      <th>...</th>\n",
       "      <td>...</td>\n",
       "      <td>...</td>\n",
       "      <td>...</td>\n",
       "      <td>...</td>\n",
       "    </tr>\n",
       "    <tr>\n",
       "      <th>11290</th>\n",
       "      <td>12358654</td>\n",
       "      <td>Koulholé</td>\n",
       "      <td>13.43898</td>\n",
       "      <td>-1.16817</td>\n",
       "    </tr>\n",
       "    <tr>\n",
       "      <th>11291</th>\n",
       "      <td>12358655</td>\n",
       "      <td>Palboa</td>\n",
       "      <td>11.82653</td>\n",
       "      <td>1.65093</td>\n",
       "    </tr>\n",
       "    <tr>\n",
       "      <th>11292</th>\n",
       "      <td>12358656</td>\n",
       "      <td>Timambari</td>\n",
       "      <td>11.84209</td>\n",
       "      <td>1.67023</td>\n",
       "    </tr>\n",
       "    <tr>\n",
       "      <th>11293</th>\n",
       "      <td>12358657</td>\n",
       "      <td>Nagbingou</td>\n",
       "      <td>13.55244</td>\n",
       "      <td>-0.46760</td>\n",
       "    </tr>\n",
       "    <tr>\n",
       "      <th>11294</th>\n",
       "      <td>12358665</td>\n",
       "      <td>Niamango</td>\n",
       "      <td>9.82967</td>\n",
       "      <td>-4.33708</td>\n",
       "    </tr>\n",
       "  </tbody>\n",
       "</table>\n",
       "<p>11295 rows × 4 columns</p>\n",
       "</div>"
      ],
      "text/plain": [
       "       Identifiants Noms de lieux  latitudes  longitudes\n",
       "0           2353158      Zyonguen   12.36667    -0.45000\n",
       "1           2353159     Zyiliwèlè   12.38333    -2.73333\n",
       "2           2353160        Zyanko   12.78333    -0.41667\n",
       "3           2353161         Zouta   13.14908    -1.28197\n",
       "4           2353162     Zourtenga   12.95741    -1.28745\n",
       "...             ...           ...        ...         ...\n",
       "11290      12358654      Koulholé   13.43898    -1.16817\n",
       "11291      12358655        Palboa   11.82653     1.65093\n",
       "11292      12358656     Timambari   11.84209     1.67023\n",
       "11293      12358657     Nagbingou   13.55244    -0.46760\n",
       "11294      12358665      Niamango    9.82967    -4.33708\n",
       "\n",
       "[11295 rows x 4 columns]"
      ]
     },
     "execution_count": 4,
     "metadata": {},
     "output_type": "execute_result"
    }
   ],
   "source": [
    "data1.columns = ['Identifiants', 'Noms de lieux', 'latitudes', 'longitudes']\n",
    "data1"
   ]
  },
  {
   "cell_type": "markdown",
   "id": "515c69e0",
   "metadata": {},
   "source": [
    "###### ◦ Renommez les avec les noms suivants : 'ID', 'location_name', 'lat', 'long'"
   ]
  },
  {
   "cell_type": "code",
   "execution_count": 5,
   "id": "4000e8c3",
   "metadata": {},
   "outputs": [
    {
     "data": {
      "text/html": [
       "<div>\n",
       "<style scoped>\n",
       "    .dataframe tbody tr th:only-of-type {\n",
       "        vertical-align: middle;\n",
       "    }\n",
       "\n",
       "    .dataframe tbody tr th {\n",
       "        vertical-align: top;\n",
       "    }\n",
       "\n",
       "    .dataframe thead th {\n",
       "        text-align: right;\n",
       "    }\n",
       "</style>\n",
       "<table border=\"1\" class=\"dataframe\">\n",
       "  <thead>\n",
       "    <tr style=\"text-align: right;\">\n",
       "      <th></th>\n",
       "      <th>ID</th>\n",
       "      <th>location_name</th>\n",
       "      <th>lat</th>\n",
       "      <th>long</th>\n",
       "    </tr>\n",
       "  </thead>\n",
       "  <tbody>\n",
       "    <tr>\n",
       "      <th>0</th>\n",
       "      <td>2353158</td>\n",
       "      <td>Zyonguen</td>\n",
       "      <td>12.36667</td>\n",
       "      <td>-0.45000</td>\n",
       "    </tr>\n",
       "    <tr>\n",
       "      <th>1</th>\n",
       "      <td>2353159</td>\n",
       "      <td>Zyiliwèlè</td>\n",
       "      <td>12.38333</td>\n",
       "      <td>-2.73333</td>\n",
       "    </tr>\n",
       "    <tr>\n",
       "      <th>2</th>\n",
       "      <td>2353160</td>\n",
       "      <td>Zyanko</td>\n",
       "      <td>12.78333</td>\n",
       "      <td>-0.41667</td>\n",
       "    </tr>\n",
       "    <tr>\n",
       "      <th>3</th>\n",
       "      <td>2353161</td>\n",
       "      <td>Zouta</td>\n",
       "      <td>13.14908</td>\n",
       "      <td>-1.28197</td>\n",
       "    </tr>\n",
       "    <tr>\n",
       "      <th>4</th>\n",
       "      <td>2353162</td>\n",
       "      <td>Zourtenga</td>\n",
       "      <td>12.95741</td>\n",
       "      <td>-1.28745</td>\n",
       "    </tr>\n",
       "    <tr>\n",
       "      <th>...</th>\n",
       "      <td>...</td>\n",
       "      <td>...</td>\n",
       "      <td>...</td>\n",
       "      <td>...</td>\n",
       "    </tr>\n",
       "    <tr>\n",
       "      <th>11290</th>\n",
       "      <td>12358654</td>\n",
       "      <td>Koulholé</td>\n",
       "      <td>13.43898</td>\n",
       "      <td>-1.16817</td>\n",
       "    </tr>\n",
       "    <tr>\n",
       "      <th>11291</th>\n",
       "      <td>12358655</td>\n",
       "      <td>Palboa</td>\n",
       "      <td>11.82653</td>\n",
       "      <td>1.65093</td>\n",
       "    </tr>\n",
       "    <tr>\n",
       "      <th>11292</th>\n",
       "      <td>12358656</td>\n",
       "      <td>Timambari</td>\n",
       "      <td>11.84209</td>\n",
       "      <td>1.67023</td>\n",
       "    </tr>\n",
       "    <tr>\n",
       "      <th>11293</th>\n",
       "      <td>12358657</td>\n",
       "      <td>Nagbingou</td>\n",
       "      <td>13.55244</td>\n",
       "      <td>-0.46760</td>\n",
       "    </tr>\n",
       "    <tr>\n",
       "      <th>11294</th>\n",
       "      <td>12358665</td>\n",
       "      <td>Niamango</td>\n",
       "      <td>9.82967</td>\n",
       "      <td>-4.33708</td>\n",
       "    </tr>\n",
       "  </tbody>\n",
       "</table>\n",
       "<p>11295 rows × 4 columns</p>\n",
       "</div>"
      ],
      "text/plain": [
       "             ID location_name       lat     long\n",
       "0       2353158      Zyonguen  12.36667 -0.45000\n",
       "1       2353159     Zyiliwèlè  12.38333 -2.73333\n",
       "2       2353160        Zyanko  12.78333 -0.41667\n",
       "3       2353161         Zouta  13.14908 -1.28197\n",
       "4       2353162     Zourtenga  12.95741 -1.28745\n",
       "...         ...           ...       ...      ...\n",
       "11290  12358654      Koulholé  13.43898 -1.16817\n",
       "11291  12358655        Palboa  11.82653  1.65093\n",
       "11292  12358656     Timambari  11.84209  1.67023\n",
       "11293  12358657     Nagbingou  13.55244 -0.46760\n",
       "11294  12358665      Niamango   9.82967 -4.33708\n",
       "\n",
       "[11295 rows x 4 columns]"
      ]
     },
     "execution_count": 5,
     "metadata": {},
     "output_type": "execute_result"
    }
   ],
   "source": [
    "data2=data1.iloc[:,[0,1,2,3]]\n",
    "data2.columns = ['ID', 'location_name', 'lat', 'long']\n",
    "data2"
   ]
  },
  {
   "cell_type": "markdown",
   "id": "cd16d0eb",
   "metadata": {},
   "source": [
    "###### ◦ Sauvegarder ces données dans un fichier CSV, nommez-le burkina_location.csv"
   ]
  },
  {
   "cell_type": "code",
   "execution_count": 6,
   "id": "d61e43ae",
   "metadata": {},
   "outputs": [],
   "source": [
    "data2.to_csv('burkina_location.csv', index=False)"
   ]
  },
  {
   "cell_type": "markdown",
   "id": "afed0405",
   "metadata": {},
   "source": [
    "##### 4. Opérations sur le fichier CSV burkina_location.csv."
   ]
  },
  {
   "cell_type": "code",
   "execution_count": 46,
   "id": "137d97e5",
   "metadata": {},
   "outputs": [
    {
     "data": {
      "text/html": [
       "<div>\n",
       "<style scoped>\n",
       "    .dataframe tbody tr th:only-of-type {\n",
       "        vertical-align: middle;\n",
       "    }\n",
       "\n",
       "    .dataframe tbody tr th {\n",
       "        vertical-align: top;\n",
       "    }\n",
       "\n",
       "    .dataframe thead th {\n",
       "        text-align: right;\n",
       "    }\n",
       "</style>\n",
       "<table border=\"1\" class=\"dataframe\">\n",
       "  <thead>\n",
       "    <tr style=\"text-align: right;\">\n",
       "      <th></th>\n",
       "      <th>ID</th>\n",
       "      <th>location_name</th>\n",
       "      <th>lat</th>\n",
       "      <th>long</th>\n",
       "    </tr>\n",
       "  </thead>\n",
       "  <tbody>\n",
       "    <tr>\n",
       "      <th>0</th>\n",
       "      <td>2353158</td>\n",
       "      <td>Zyonguen</td>\n",
       "      <td>12.36667</td>\n",
       "      <td>-0.45000</td>\n",
       "    </tr>\n",
       "    <tr>\n",
       "      <th>1</th>\n",
       "      <td>2353159</td>\n",
       "      <td>Zyiliwèlè</td>\n",
       "      <td>12.38333</td>\n",
       "      <td>-2.73333</td>\n",
       "    </tr>\n",
       "    <tr>\n",
       "      <th>2</th>\n",
       "      <td>2353160</td>\n",
       "      <td>Zyanko</td>\n",
       "      <td>12.78333</td>\n",
       "      <td>-0.41667</td>\n",
       "    </tr>\n",
       "    <tr>\n",
       "      <th>3</th>\n",
       "      <td>2353161</td>\n",
       "      <td>Zouta</td>\n",
       "      <td>13.14908</td>\n",
       "      <td>-1.28197</td>\n",
       "    </tr>\n",
       "    <tr>\n",
       "      <th>4</th>\n",
       "      <td>2353162</td>\n",
       "      <td>Zourtenga</td>\n",
       "      <td>12.95741</td>\n",
       "      <td>-1.28745</td>\n",
       "    </tr>\n",
       "  </tbody>\n",
       "</table>\n",
       "</div>"
      ],
      "text/plain": [
       "        ID location_name       lat     long\n",
       "0  2353158      Zyonguen  12.36667 -0.45000\n",
       "1  2353159     Zyiliwèlè  12.38333 -2.73333\n",
       "2  2353160        Zyanko  12.78333 -0.41667\n",
       "3  2353161         Zouta  13.14908 -1.28197\n",
       "4  2353162     Zourtenga  12.95741 -1.28745"
      ]
     },
     "execution_count": 46,
     "metadata": {},
     "output_type": "execute_result"
    }
   ],
   "source": [
    "burkina_location=pd.read_csv('burkina_location.csv')\n",
    "burkina_location.head()"
   ]
  },
  {
   "cell_type": "code",
   "execution_count": 47,
   "id": "a143138f",
   "metadata": {},
   "outputs": [
    {
     "data": {
      "text/html": [
       "<div>\n",
       "<style scoped>\n",
       "    .dataframe tbody tr th:only-of-type {\n",
       "        vertical-align: middle;\n",
       "    }\n",
       "\n",
       "    .dataframe tbody tr th {\n",
       "        vertical-align: top;\n",
       "    }\n",
       "\n",
       "    .dataframe thead th {\n",
       "        text-align: right;\n",
       "    }\n",
       "</style>\n",
       "<table border=\"1\" class=\"dataframe\">\n",
       "  <thead>\n",
       "    <tr style=\"text-align: right;\">\n",
       "      <th></th>\n",
       "      <th>location_name</th>\n",
       "      <th>lat</th>\n",
       "      <th>long</th>\n",
       "    </tr>\n",
       "    <tr>\n",
       "      <th>ID</th>\n",
       "      <th></th>\n",
       "      <th></th>\n",
       "      <th></th>\n",
       "    </tr>\n",
       "  </thead>\n",
       "  <tbody>\n",
       "    <tr>\n",
       "      <th>2353158</th>\n",
       "      <td>Zyonguen</td>\n",
       "      <td>12.36667</td>\n",
       "      <td>-0.45000</td>\n",
       "    </tr>\n",
       "    <tr>\n",
       "      <th>2353159</th>\n",
       "      <td>Zyiliwèlè</td>\n",
       "      <td>12.38333</td>\n",
       "      <td>-2.73333</td>\n",
       "    </tr>\n",
       "    <tr>\n",
       "      <th>2353160</th>\n",
       "      <td>Zyanko</td>\n",
       "      <td>12.78333</td>\n",
       "      <td>-0.41667</td>\n",
       "    </tr>\n",
       "    <tr>\n",
       "      <th>2353161</th>\n",
       "      <td>Zouta</td>\n",
       "      <td>13.14908</td>\n",
       "      <td>-1.28197</td>\n",
       "    </tr>\n",
       "    <tr>\n",
       "      <th>2353162</th>\n",
       "      <td>Zourtenga</td>\n",
       "      <td>12.95741</td>\n",
       "      <td>-1.28745</td>\n",
       "    </tr>\n",
       "    <tr>\n",
       "      <th>...</th>\n",
       "      <td>...</td>\n",
       "      <td>...</td>\n",
       "      <td>...</td>\n",
       "    </tr>\n",
       "    <tr>\n",
       "      <th>12358654</th>\n",
       "      <td>Koulholé</td>\n",
       "      <td>13.43898</td>\n",
       "      <td>-1.16817</td>\n",
       "    </tr>\n",
       "    <tr>\n",
       "      <th>12358655</th>\n",
       "      <td>Palboa</td>\n",
       "      <td>11.82653</td>\n",
       "      <td>1.65093</td>\n",
       "    </tr>\n",
       "    <tr>\n",
       "      <th>12358656</th>\n",
       "      <td>Timambari</td>\n",
       "      <td>11.84209</td>\n",
       "      <td>1.67023</td>\n",
       "    </tr>\n",
       "    <tr>\n",
       "      <th>12358657</th>\n",
       "      <td>Nagbingou</td>\n",
       "      <td>13.55244</td>\n",
       "      <td>-0.46760</td>\n",
       "    </tr>\n",
       "    <tr>\n",
       "      <th>12358665</th>\n",
       "      <td>Niamango</td>\n",
       "      <td>9.82967</td>\n",
       "      <td>-4.33708</td>\n",
       "    </tr>\n",
       "  </tbody>\n",
       "</table>\n",
       "<p>11295 rows × 3 columns</p>\n",
       "</div>"
      ],
      "text/plain": [
       "         location_name       lat     long\n",
       "ID                                       \n",
       "2353158       Zyonguen  12.36667 -0.45000\n",
       "2353159      Zyiliwèlè  12.38333 -2.73333\n",
       "2353160         Zyanko  12.78333 -0.41667\n",
       "2353161          Zouta  13.14908 -1.28197\n",
       "2353162      Zourtenga  12.95741 -1.28745\n",
       "...                ...       ...      ...\n",
       "12358654      Koulholé  13.43898 -1.16817\n",
       "12358655        Palboa  11.82653  1.65093\n",
       "12358656     Timambari  11.84209  1.67023\n",
       "12358657     Nagbingou  13.55244 -0.46760\n",
       "12358665      Niamango   9.82967 -4.33708\n",
       "\n",
       "[11295 rows x 3 columns]"
      ]
     },
     "execution_count": 47,
     "metadata": {},
     "output_type": "execute_result"
    }
   ],
   "source": [
    "burkina_location.set_index('ID', inplace  = True)\n",
    "burkina_location"
   ]
  },
  {
   "cell_type": "markdown",
   "id": "d4b77478",
   "metadata": {},
   "source": [
    "##### ◦ Extraire les données contenant le nom 'gounghin', enregistrez-le sous le fichier gounghin.csv"
   ]
  },
  {
   "cell_type": "code",
   "execution_count": 53,
   "id": "8d30b89b",
   "metadata": {},
   "outputs": [],
   "source": [
    "burkina_location1  = burkina_location['location_name'].isin(['gounghin'])\n",
    "burkina_location2 = burkina_location[burkina_location1]"
   ]
  },
  {
   "cell_type": "code",
   "execution_count": 54,
   "id": "bc59c3de",
   "metadata": {},
   "outputs": [],
   "source": [
    "burkina_location2.to_excel(\"mini_projet.xlsx\", sheet_name='gounghin')"
   ]
  },
  {
   "cell_type": "markdown",
   "id": "93fcb098",
   "metadata": {},
   "source": [
    "##### ◦ Extraire la sous-partie de la base de données (fichier burkina_location.csv), dont les premières lettres des noms de lieux sont compris entre 'A' et 'P' (ordre alphabétique)."
   ]
  },
  {
   "cell_type": "code",
   "execution_count": 56,
   "id": "1f9574a5",
   "metadata": {},
   "outputs": [
    {
     "name": "stderr",
     "output_type": "stream",
     "text": [
      "C:\\Users\\hp\\Anaconda3\\lib\\site-packages\\ipykernel_launcher.py:1: SettingWithCopyWarning: \n",
      "A value is trying to be set on a copy of a slice from a DataFrame\n",
      "\n",
      "See the caveats in the documentation: https://pandas.pydata.org/pandas-docs/stable/user_guide/indexing.html#returning-a-view-versus-a-copy\n",
      "  \"\"\"Entry point for launching an IPython kernel.\n"
     ]
    }
   ],
   "source": [
    "burkina_location2.set_index('location_name', inplace  = True)\n",
    "burkina_location2.loc[['M. ILBOUDO','M. BAZIE']]"
   ]
  },
  {
   "cell_type": "code",
   "execution_count": 67,
   "id": "69c14bc1",
   "metadata": {},
   "outputs": [
    {
     "ename": "KeyError",
     "evalue": "0",
     "output_type": "error",
     "traceback": [
      "\u001b[1;31m---------------------------------------------------------------------------\u001b[0m",
      "\u001b[1;31mKeyError\u001b[0m                                  Traceback (most recent call last)",
      "\u001b[1;32m~\\Anaconda3\\lib\\site-packages\\pandas\\core\\indexes\\base.py\u001b[0m in \u001b[0;36mget_loc\u001b[1;34m(self, key, method, tolerance)\u001b[0m\n\u001b[0;32m   3360\u001b[0m             \u001b[1;32mtry\u001b[0m\u001b[1;33m:\u001b[0m\u001b[1;33m\u001b[0m\u001b[1;33m\u001b[0m\u001b[0m\n\u001b[1;32m-> 3361\u001b[1;33m                 \u001b[1;32mreturn\u001b[0m \u001b[0mself\u001b[0m\u001b[1;33m.\u001b[0m\u001b[0m_engine\u001b[0m\u001b[1;33m.\u001b[0m\u001b[0mget_loc\u001b[0m\u001b[1;33m(\u001b[0m\u001b[0mcasted_key\u001b[0m\u001b[1;33m)\u001b[0m\u001b[1;33m\u001b[0m\u001b[1;33m\u001b[0m\u001b[0m\n\u001b[0m\u001b[0;32m   3362\u001b[0m             \u001b[1;32mexcept\u001b[0m \u001b[0mKeyError\u001b[0m \u001b[1;32mas\u001b[0m \u001b[0merr\u001b[0m\u001b[1;33m:\u001b[0m\u001b[1;33m\u001b[0m\u001b[1;33m\u001b[0m\u001b[0m\n",
      "\u001b[1;32m~\\Anaconda3\\lib\\site-packages\\pandas\\_libs\\index.pyx\u001b[0m in \u001b[0;36mpandas._libs.index.IndexEngine.get_loc\u001b[1;34m()\u001b[0m\n",
      "\u001b[1;32m~\\Anaconda3\\lib\\site-packages\\pandas\\_libs\\index.pyx\u001b[0m in \u001b[0;36mpandas._libs.index.IndexEngine.get_loc\u001b[1;34m()\u001b[0m\n",
      "\u001b[1;32mpandas\\_libs\\hashtable_class_helper.pxi\u001b[0m in \u001b[0;36mpandas._libs.hashtable.Int64HashTable.get_item\u001b[1;34m()\u001b[0m\n",
      "\u001b[1;32mpandas\\_libs\\hashtable_class_helper.pxi\u001b[0m in \u001b[0;36mpandas._libs.hashtable.Int64HashTable.get_item\u001b[1;34m()\u001b[0m\n",
      "\u001b[1;31mKeyError\u001b[0m: 0",
      "\nThe above exception was the direct cause of the following exception:\n",
      "\u001b[1;31mKeyError\u001b[0m                                  Traceback (most recent call last)",
      "\u001b[1;32m<ipython-input-67-12742325294a>\u001b[0m in \u001b[0;36m<module>\u001b[1;34m\u001b[0m\n\u001b[1;32m----> 1\u001b[1;33m \u001b[0mreq1\u001b[0m \u001b[1;33m=\u001b[0m \u001b[0mburkina_location\u001b[0m\u001b[1;33m[\u001b[0m\u001b[1;34m'location_name'\u001b[0m\u001b[1;33m]\u001b[0m\u001b[1;33m[\u001b[0m\u001b[1;36m0\u001b[0m\u001b[1;33m]\u001b[0m\u001b[1;33m==\u001b[0m\u001b[1;34m'A'\u001b[0m\u001b[1;33m\u001b[0m\u001b[1;33m\u001b[0m\u001b[0m\n\u001b[0m\u001b[0;32m      2\u001b[0m \u001b[0mreq2\u001b[0m \u001b[1;33m=\u001b[0m \u001b[0mburkina_location\u001b[0m\u001b[1;33m[\u001b[0m\u001b[1;34m'location_name'\u001b[0m\u001b[1;33m]\u001b[0m\u001b[1;33m[\u001b[0m\u001b[1;36m0\u001b[0m\u001b[1;33m]\u001b[0m\u001b[1;33m==\u001b[0m\u001b[1;34m'P'\u001b[0m\u001b[1;33m\u001b[0m\u001b[1;33m\u001b[0m\u001b[0m\n",
      "\u001b[1;32m~\\Anaconda3\\lib\\site-packages\\pandas\\core\\series.py\u001b[0m in \u001b[0;36m__getitem__\u001b[1;34m(self, key)\u001b[0m\n\u001b[0;32m    940\u001b[0m \u001b[1;33m\u001b[0m\u001b[0m\n\u001b[0;32m    941\u001b[0m         \u001b[1;32melif\u001b[0m \u001b[0mkey_is_scalar\u001b[0m\u001b[1;33m:\u001b[0m\u001b[1;33m\u001b[0m\u001b[1;33m\u001b[0m\u001b[0m\n\u001b[1;32m--> 942\u001b[1;33m             \u001b[1;32mreturn\u001b[0m \u001b[0mself\u001b[0m\u001b[1;33m.\u001b[0m\u001b[0m_get_value\u001b[0m\u001b[1;33m(\u001b[0m\u001b[0mkey\u001b[0m\u001b[1;33m)\u001b[0m\u001b[1;33m\u001b[0m\u001b[1;33m\u001b[0m\u001b[0m\n\u001b[0m\u001b[0;32m    943\u001b[0m \u001b[1;33m\u001b[0m\u001b[0m\n\u001b[0;32m    944\u001b[0m         \u001b[1;32mif\u001b[0m \u001b[0mis_hashable\u001b[0m\u001b[1;33m(\u001b[0m\u001b[0mkey\u001b[0m\u001b[1;33m)\u001b[0m\u001b[1;33m:\u001b[0m\u001b[1;33m\u001b[0m\u001b[1;33m\u001b[0m\u001b[0m\n",
      "\u001b[1;32m~\\Anaconda3\\lib\\site-packages\\pandas\\core\\series.py\u001b[0m in \u001b[0;36m_get_value\u001b[1;34m(self, label, takeable)\u001b[0m\n\u001b[0;32m   1049\u001b[0m \u001b[1;33m\u001b[0m\u001b[0m\n\u001b[0;32m   1050\u001b[0m         \u001b[1;31m# Similar to Index.get_value, but we do not fall back to positional\u001b[0m\u001b[1;33m\u001b[0m\u001b[1;33m\u001b[0m\u001b[1;33m\u001b[0m\u001b[0m\n\u001b[1;32m-> 1051\u001b[1;33m         \u001b[0mloc\u001b[0m \u001b[1;33m=\u001b[0m \u001b[0mself\u001b[0m\u001b[1;33m.\u001b[0m\u001b[0mindex\u001b[0m\u001b[1;33m.\u001b[0m\u001b[0mget_loc\u001b[0m\u001b[1;33m(\u001b[0m\u001b[0mlabel\u001b[0m\u001b[1;33m)\u001b[0m\u001b[1;33m\u001b[0m\u001b[1;33m\u001b[0m\u001b[0m\n\u001b[0m\u001b[0;32m   1052\u001b[0m         \u001b[1;32mreturn\u001b[0m \u001b[0mself\u001b[0m\u001b[1;33m.\u001b[0m\u001b[0mindex\u001b[0m\u001b[1;33m.\u001b[0m\u001b[0m_get_values_for_loc\u001b[0m\u001b[1;33m(\u001b[0m\u001b[0mself\u001b[0m\u001b[1;33m,\u001b[0m \u001b[0mloc\u001b[0m\u001b[1;33m,\u001b[0m \u001b[0mlabel\u001b[0m\u001b[1;33m)\u001b[0m\u001b[1;33m\u001b[0m\u001b[1;33m\u001b[0m\u001b[0m\n\u001b[0;32m   1053\u001b[0m \u001b[1;33m\u001b[0m\u001b[0m\n",
      "\u001b[1;32m~\\Anaconda3\\lib\\site-packages\\pandas\\core\\indexes\\base.py\u001b[0m in \u001b[0;36mget_loc\u001b[1;34m(self, key, method, tolerance)\u001b[0m\n\u001b[0;32m   3361\u001b[0m                 \u001b[1;32mreturn\u001b[0m \u001b[0mself\u001b[0m\u001b[1;33m.\u001b[0m\u001b[0m_engine\u001b[0m\u001b[1;33m.\u001b[0m\u001b[0mget_loc\u001b[0m\u001b[1;33m(\u001b[0m\u001b[0mcasted_key\u001b[0m\u001b[1;33m)\u001b[0m\u001b[1;33m\u001b[0m\u001b[1;33m\u001b[0m\u001b[0m\n\u001b[0;32m   3362\u001b[0m             \u001b[1;32mexcept\u001b[0m \u001b[0mKeyError\u001b[0m \u001b[1;32mas\u001b[0m \u001b[0merr\u001b[0m\u001b[1;33m:\u001b[0m\u001b[1;33m\u001b[0m\u001b[1;33m\u001b[0m\u001b[0m\n\u001b[1;32m-> 3363\u001b[1;33m                 \u001b[1;32mraise\u001b[0m \u001b[0mKeyError\u001b[0m\u001b[1;33m(\u001b[0m\u001b[0mkey\u001b[0m\u001b[1;33m)\u001b[0m \u001b[1;32mfrom\u001b[0m \u001b[0merr\u001b[0m\u001b[1;33m\u001b[0m\u001b[1;33m\u001b[0m\u001b[0m\n\u001b[0m\u001b[0;32m   3364\u001b[0m \u001b[1;33m\u001b[0m\u001b[0m\n\u001b[0;32m   3365\u001b[0m         \u001b[1;32mif\u001b[0m \u001b[0mis_scalar\u001b[0m\u001b[1;33m(\u001b[0m\u001b[0mkey\u001b[0m\u001b[1;33m)\u001b[0m \u001b[1;32mand\u001b[0m \u001b[0misna\u001b[0m\u001b[1;33m(\u001b[0m\u001b[0mkey\u001b[0m\u001b[1;33m)\u001b[0m \u001b[1;32mand\u001b[0m \u001b[1;32mnot\u001b[0m \u001b[0mself\u001b[0m\u001b[1;33m.\u001b[0m\u001b[0mhasnans\u001b[0m\u001b[1;33m:\u001b[0m\u001b[1;33m\u001b[0m\u001b[1;33m\u001b[0m\u001b[0m\n",
      "\u001b[1;31mKeyError\u001b[0m: 0"
     ]
    }
   ],
   "source": [
    "req1 = burkina_location['location_name'][0]=='A'\n",
    "req2 = burkina_location['location_name'][0]=='P'\n",
    "\n",
    "burkina_location[req1 & req2]"
   ]
  },
  {
   "cell_type": "code",
   "execution_count": 59,
   "id": "715aa05d",
   "metadata": {},
   "outputs": [
    {
     "ename": "KeyError",
     "evalue": "0",
     "output_type": "error",
     "traceback": [
      "\u001b[1;31m---------------------------------------------------------------------------\u001b[0m",
      "\u001b[1;31mKeyError\u001b[0m                                  Traceback (most recent call last)",
      "\u001b[1;32m~\\Anaconda3\\lib\\site-packages\\pandas\\core\\indexes\\base.py\u001b[0m in \u001b[0;36mget_loc\u001b[1;34m(self, key, method, tolerance)\u001b[0m\n\u001b[0;32m   3360\u001b[0m             \u001b[1;32mtry\u001b[0m\u001b[1;33m:\u001b[0m\u001b[1;33m\u001b[0m\u001b[1;33m\u001b[0m\u001b[0m\n\u001b[1;32m-> 3361\u001b[1;33m                 \u001b[1;32mreturn\u001b[0m \u001b[0mself\u001b[0m\u001b[1;33m.\u001b[0m\u001b[0m_engine\u001b[0m\u001b[1;33m.\u001b[0m\u001b[0mget_loc\u001b[0m\u001b[1;33m(\u001b[0m\u001b[0mcasted_key\u001b[0m\u001b[1;33m)\u001b[0m\u001b[1;33m\u001b[0m\u001b[1;33m\u001b[0m\u001b[0m\n\u001b[0m\u001b[0;32m   3362\u001b[0m             \u001b[1;32mexcept\u001b[0m \u001b[0mKeyError\u001b[0m \u001b[1;32mas\u001b[0m \u001b[0merr\u001b[0m\u001b[1;33m:\u001b[0m\u001b[1;33m\u001b[0m\u001b[1;33m\u001b[0m\u001b[0m\n",
      "\u001b[1;32m~\\Anaconda3\\lib\\site-packages\\pandas\\_libs\\index.pyx\u001b[0m in \u001b[0;36mpandas._libs.index.IndexEngine.get_loc\u001b[1;34m()\u001b[0m\n",
      "\u001b[1;32m~\\Anaconda3\\lib\\site-packages\\pandas\\_libs\\index.pyx\u001b[0m in \u001b[0;36mpandas._libs.index.IndexEngine.get_loc\u001b[1;34m()\u001b[0m\n",
      "\u001b[1;32mpandas\\_libs\\hashtable_class_helper.pxi\u001b[0m in \u001b[0;36mpandas._libs.hashtable.PyObjectHashTable.get_item\u001b[1;34m()\u001b[0m\n",
      "\u001b[1;32mpandas\\_libs\\hashtable_class_helper.pxi\u001b[0m in \u001b[0;36mpandas._libs.hashtable.PyObjectHashTable.get_item\u001b[1;34m()\u001b[0m\n",
      "\u001b[1;31mKeyError\u001b[0m: 0",
      "\nThe above exception was the direct cause of the following exception:\n",
      "\u001b[1;31mKeyError\u001b[0m                                  Traceback (most recent call last)",
      "\u001b[1;32m<ipython-input-59-ca96d4f8ade8>\u001b[0m in \u001b[0;36m<module>\u001b[1;34m\u001b[0m\n\u001b[0;32m      3\u001b[0m \u001b[1;33m\u001b[0m\u001b[0m\n\u001b[0;32m      4\u001b[0m \u001b[1;32mwhile\u001b[0m \u001b[0mi\u001b[0m\u001b[1;33m<\u001b[0m\u001b[0mburkina_location\u001b[0m\u001b[1;33m.\u001b[0m\u001b[0mshape\u001b[0m\u001b[1;33m[\u001b[0m\u001b[1;36m0\u001b[0m\u001b[1;33m]\u001b[0m\u001b[1;33m:\u001b[0m\u001b[1;33m\u001b[0m\u001b[1;33m\u001b[0m\u001b[0m\n\u001b[1;32m----> 5\u001b[1;33m     \u001b[1;32mif\u001b[0m \u001b[0mburkina_location\u001b[0m\u001b[1;33m[\u001b[0m\u001b[1;36m0\u001b[0m\u001b[1;33m]\u001b[0m \u001b[1;33m==\u001b[0m \u001b[0mletter\u001b[0m\u001b[1;33m:\u001b[0m\u001b[1;33m\u001b[0m\u001b[1;33m\u001b[0m\u001b[0m\n\u001b[0m\u001b[0;32m      6\u001b[0m          \u001b[0mprint\u001b[0m\u001b[1;33m(\u001b[0m\u001b[1;34m\"A est présent au caractère n°\"\u001b[0m\u001b[1;33m,\u001b[0m \u001b[0mi\u001b[0m\u001b[1;33m+\u001b[0m\u001b[1;36m1\u001b[0m\u001b[1;33m)\u001b[0m\u001b[1;33m\u001b[0m\u001b[1;33m\u001b[0m\u001b[0m\n\u001b[0;32m      7\u001b[0m     \u001b[1;32melse\u001b[0m\u001b[1;33m:\u001b[0m\u001b[1;33m\u001b[0m\u001b[1;33m\u001b[0m\u001b[0m\n",
      "\u001b[1;32m~\\Anaconda3\\lib\\site-packages\\pandas\\core\\frame.py\u001b[0m in \u001b[0;36m__getitem__\u001b[1;34m(self, key)\u001b[0m\n\u001b[0;32m   3453\u001b[0m             \u001b[1;32mif\u001b[0m \u001b[0mself\u001b[0m\u001b[1;33m.\u001b[0m\u001b[0mcolumns\u001b[0m\u001b[1;33m.\u001b[0m\u001b[0mnlevels\u001b[0m \u001b[1;33m>\u001b[0m \u001b[1;36m1\u001b[0m\u001b[1;33m:\u001b[0m\u001b[1;33m\u001b[0m\u001b[1;33m\u001b[0m\u001b[0m\n\u001b[0;32m   3454\u001b[0m                 \u001b[1;32mreturn\u001b[0m \u001b[0mself\u001b[0m\u001b[1;33m.\u001b[0m\u001b[0m_getitem_multilevel\u001b[0m\u001b[1;33m(\u001b[0m\u001b[0mkey\u001b[0m\u001b[1;33m)\u001b[0m\u001b[1;33m\u001b[0m\u001b[1;33m\u001b[0m\u001b[0m\n\u001b[1;32m-> 3455\u001b[1;33m             \u001b[0mindexer\u001b[0m \u001b[1;33m=\u001b[0m \u001b[0mself\u001b[0m\u001b[1;33m.\u001b[0m\u001b[0mcolumns\u001b[0m\u001b[1;33m.\u001b[0m\u001b[0mget_loc\u001b[0m\u001b[1;33m(\u001b[0m\u001b[0mkey\u001b[0m\u001b[1;33m)\u001b[0m\u001b[1;33m\u001b[0m\u001b[1;33m\u001b[0m\u001b[0m\n\u001b[0m\u001b[0;32m   3456\u001b[0m             \u001b[1;32mif\u001b[0m \u001b[0mis_integer\u001b[0m\u001b[1;33m(\u001b[0m\u001b[0mindexer\u001b[0m\u001b[1;33m)\u001b[0m\u001b[1;33m:\u001b[0m\u001b[1;33m\u001b[0m\u001b[1;33m\u001b[0m\u001b[0m\n\u001b[0;32m   3457\u001b[0m                 \u001b[0mindexer\u001b[0m \u001b[1;33m=\u001b[0m \u001b[1;33m[\u001b[0m\u001b[0mindexer\u001b[0m\u001b[1;33m]\u001b[0m\u001b[1;33m\u001b[0m\u001b[1;33m\u001b[0m\u001b[0m\n",
      "\u001b[1;32m~\\Anaconda3\\lib\\site-packages\\pandas\\core\\indexes\\base.py\u001b[0m in \u001b[0;36mget_loc\u001b[1;34m(self, key, method, tolerance)\u001b[0m\n\u001b[0;32m   3361\u001b[0m                 \u001b[1;32mreturn\u001b[0m \u001b[0mself\u001b[0m\u001b[1;33m.\u001b[0m\u001b[0m_engine\u001b[0m\u001b[1;33m.\u001b[0m\u001b[0mget_loc\u001b[0m\u001b[1;33m(\u001b[0m\u001b[0mcasted_key\u001b[0m\u001b[1;33m)\u001b[0m\u001b[1;33m\u001b[0m\u001b[1;33m\u001b[0m\u001b[0m\n\u001b[0;32m   3362\u001b[0m             \u001b[1;32mexcept\u001b[0m \u001b[0mKeyError\u001b[0m \u001b[1;32mas\u001b[0m \u001b[0merr\u001b[0m\u001b[1;33m:\u001b[0m\u001b[1;33m\u001b[0m\u001b[1;33m\u001b[0m\u001b[0m\n\u001b[1;32m-> 3363\u001b[1;33m                 \u001b[1;32mraise\u001b[0m \u001b[0mKeyError\u001b[0m\u001b[1;33m(\u001b[0m\u001b[0mkey\u001b[0m\u001b[1;33m)\u001b[0m \u001b[1;32mfrom\u001b[0m \u001b[0merr\u001b[0m\u001b[1;33m\u001b[0m\u001b[1;33m\u001b[0m\u001b[0m\n\u001b[0m\u001b[0;32m   3364\u001b[0m \u001b[1;33m\u001b[0m\u001b[0m\n\u001b[0;32m   3365\u001b[0m         \u001b[1;32mif\u001b[0m \u001b[0mis_scalar\u001b[0m\u001b[1;33m(\u001b[0m\u001b[0mkey\u001b[0m\u001b[1;33m)\u001b[0m \u001b[1;32mand\u001b[0m \u001b[0misna\u001b[0m\u001b[1;33m(\u001b[0m\u001b[0mkey\u001b[0m\u001b[1;33m)\u001b[0m \u001b[1;32mand\u001b[0m \u001b[1;32mnot\u001b[0m \u001b[0mself\u001b[0m\u001b[1;33m.\u001b[0m\u001b[0mhasnans\u001b[0m\u001b[1;33m:\u001b[0m\u001b[1;33m\u001b[0m\u001b[1;33m\u001b[0m\u001b[0m\n",
      "\u001b[1;31mKeyError\u001b[0m: 0"
     ]
    }
   ],
   "source": [
    "letter=\"A\"\n",
    "i=0\n",
    " \n",
    "while i<burkina_location.shape[0]:\n",
    "    if burkina_location[0] == letter:\n",
    "         print(\"A est présent au caractère n°\", i+1)\n",
    "    else:\n",
    "        print(\"A est absent au caractère n°\", i+1)\n",
    "    i=i+1"
   ]
  },
  {
   "cell_type": "code",
   "execution_count": 57,
   "id": "1366277a",
   "metadata": {},
   "outputs": [
    {
     "data": {
      "text/plain": [
       "11295"
      ]
     },
     "execution_count": 57,
     "metadata": {},
     "output_type": "execute_result"
    }
   ],
   "source": [
    "burkina_location.shape[0]"
   ]
  },
  {
   "cell_type": "markdown",
   "id": "e962f947",
   "metadata": {},
   "source": [
    "##### ◦ Identifiez respectivement, la latitude, la longitude minimale et les noms de lieux correspondants dans le fichier burkina_location.csv."
   ]
  },
  {
   "cell_type": "code",
   "execution_count": null,
   "id": "b59a41df",
   "metadata": {},
   "outputs": [],
   "source": []
  },
  {
   "cell_type": "markdown",
   "id": "03b5aea6",
   "metadata": {},
   "source": [
    "##### ◦ Quels sont les lieux dont les coordonnées sont comprises entre (lat >= 11 et lon <= 0.5)"
   ]
  },
  {
   "cell_type": "code",
   "execution_count": null,
   "id": "32ed0732",
   "metadata": {},
   "outputs": [],
   "source": []
  },
  {
   "cell_type": "code",
   "execution_count": null,
   "id": "89546320",
   "metadata": {},
   "outputs": [],
   "source": []
  },
  {
   "cell_type": "markdown",
   "id": "75029d1a",
   "metadata": {},
   "source": [
    "##### Sorties Excel\n",
    "##### À partir des extractions de l'étape 4 :\n",
    "###### ◦ Créer un fichier Excel et nommer le : mini_projet\n",
    "###### ◦ Créer une feuille dans ce fichier, du nom gounghin et enregistrer les données contenant le nom ‘gounghin’ obtenues dans 4.1\n",
    "###### ◦ Créer une second feuille dans ce même fichier, du nom A_to_P et enregistrer les données de 4.2"
   ]
  },
  {
   "cell_type": "code",
   "execution_count": null,
   "id": "8ab67697",
   "metadata": {},
   "outputs": [],
   "source": []
  },
  {
   "cell_type": "code",
   "execution_count": null,
   "id": "b36dc1df",
   "metadata": {},
   "outputs": [],
   "source": []
  },
  {
   "cell_type": "code",
   "execution_count": null,
   "id": "3a0efd16",
   "metadata": {},
   "outputs": [],
   "source": []
  }
 ],
 "metadata": {
  "kernelspec": {
   "display_name": "Python 3",
   "language": "python",
   "name": "python3"
  },
  "language_info": {
   "codemirror_mode": {
    "name": "ipython",
    "version": 3
   },
   "file_extension": ".py",
   "mimetype": "text/x-python",
   "name": "python",
   "nbconvert_exporter": "python",
   "pygments_lexer": "ipython3",
   "version": "3.7.3"
  }
 },
 "nbformat": 4,
 "nbformat_minor": 5
}
