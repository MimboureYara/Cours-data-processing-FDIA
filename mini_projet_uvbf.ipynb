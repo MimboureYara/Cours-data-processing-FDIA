{
 "cells": [
  {
   "cell_type": "markdown",
   "id": "6e0df70c",
   "metadata": {},
   "source": [
    "<center>\n",
    "<a href=\"https://uv.bf/\" target=\"_parent\"><img src=\"logo.png\" alt=\"\" width=\"200\" height=\"240\"/></a>\n",
    "</center>"
   ]
  },
  {
   "cell_type": "markdown",
   "id": "a98cbc7a",
   "metadata": {},
   "source": [
    "### Mini Projet – Traitement de Données avec Python - Pandas"
   ]
  },
  {
   "cell_type": "markdown",
   "id": "bdf7840f",
   "metadata": {},
   "source": [
    "#### Le but de cet exercice est d'extraire un sous-ensemble de données à partir d'une base de données existantes"
   ]
  },
  {
   "cell_type": "markdown",
   "id": "a1e17c56",
   "metadata": {},
   "source": [
    "Supposons que vous ayez besoin de réaliser une application qui prend en entrée, des noms\n",
    "de lieux du Burkina Faso, avec des informations telles que la latitude/longitude.\n",
    "Pour ce faire, nous décidons d'extraire ces informations à partir du server de référencement\n",
    "géoname (http://www.geonames.org/). Vous allez procéder de la façon suivante :"
   ]
  },
  {
   "cell_type": "markdown",
   "id": "712c578d",
   "metadata": {},
   "source": [
    "##### 1. Exporter la base de données qui recense les informations sur le Burkina Faso\n",
    "(https://download.geonames.org/export/dump/).\n",
    "##### ◦ Pour ce faire, reférez-vous au Readme, décrit à la fin de la page pour identifier le code iso correspondant à celui du Burkina Faso"
   ]
  },
  {
   "cell_type": "code",
   "execution_count": null,
   "id": "02495de0",
   "metadata": {},
   "outputs": [],
   "source": []
  },
  {
   "cell_type": "markdown",
   "id": "0409e93f",
   "metadata": {},
   "source": [
    "##### 2. Télécharger le fichier zip correspondant"
   ]
  },
  {
   "cell_type": "code",
   "execution_count": null,
   "id": "20274aca",
   "metadata": {},
   "outputs": [],
   "source": []
  },
  {
   "cell_type": "markdown",
   "id": "a63c2991",
   "metadata": {},
   "source": [
    "##### 3. Appliquer les opérations de prétraitement et filtres nécessaires à ce fichier, pour ne garder que les colonnes correspondantes :\n",
    "###### ◦ Identifiants, Noms de lieux, latitudes, longitudes\n",
    "###### ◦ Renommez les avec les noms suivants : 'ID', 'location_name', 'lat', 'long'\n",
    "###### ◦ Sauvegarder ces données dans un fichier CSV, nommez-le burkina_location.csv"
   ]
  },
  {
   "cell_type": "code",
   "execution_count": null,
   "id": "e3dec532",
   "metadata": {},
   "outputs": [],
   "source": []
  },
  {
   "cell_type": "markdown",
   "id": "ec7e9fe3",
   "metadata": {},
   "source": [
    "##### 4. Opérations sur le fichier CSV burkina_location.csv.\n",
    "##### ◦ Extraire les données contenant le nom 'gounghin', enregistrez-le sous le fichier gounghin.csv\n",
    "##### ◦ Extraire la sous-partie de la base de données (fichier burkina_location.csv), dont les premières lettres des noms de lieux sont compris entre 'A' et 'P' (ordre alphabétique).\n",
    "##### ◦ Identifiez respectivement, la latitude, la longitude minimale et les noms de lieux correspondants dans le fichier burkina_location.csv.\n",
    "##### ◦ Quels sont les lieux dont les coordonnées sont comprises entre (lat >= 11 et lon <= 0.5)"
   ]
  },
  {
   "cell_type": "code",
   "execution_count": null,
   "id": "6f142828",
   "metadata": {},
   "outputs": [],
   "source": []
  },
  {
   "cell_type": "markdown",
   "id": "a84bb9e3",
   "metadata": {},
   "source": [
    "##### Sorties Excel\n",
    "##### À partir des extractions de l'étape 4 :\n",
    "###### ◦ Créer un fichier Excel et nommer le : mini_projet\n",
    "###### ◦ Créer une feuille dans ce fichier, du nom gounghin et enregistrer les données contenant le nom ‘gounghin’ obtenues dans 4.1\n",
    "###### ◦ Créer une second feuille dans ce même fichier, du nom A_to_P et enregistrer les données de 4.2"
   ]
  },
  {
   "cell_type": "code",
   "execution_count": null,
   "id": "5cf481f5",
   "metadata": {},
   "outputs": [],
   "source": []
  },
  {
   "cell_type": "code",
   "execution_count": null,
   "id": "83e104be",
   "metadata": {},
   "outputs": [],
   "source": []
  },
  {
   "cell_type": "code",
   "execution_count": null,
   "id": "89155642",
   "metadata": {},
   "outputs": [],
   "source": []
  }
 ],
 "metadata": {
  "kernelspec": {
   "display_name": "Python 3",
   "language": "python",
   "name": "python3"
  },
  "language_info": {
   "codemirror_mode": {
    "name": "ipython",
    "version": 3
   },
   "file_extension": ".py",
   "mimetype": "text/x-python",
   "name": "python",
   "nbconvert_exporter": "python",
   "pygments_lexer": "ipython3",
   "version": "3.7.3"
  }
 },
 "nbformat": 4,
 "nbformat_minor": 5
}
