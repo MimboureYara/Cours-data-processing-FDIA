{
 "cells": [
  {
   "cell_type": "code",
   "execution_count": null,
   "metadata": {},
   "outputs": [],
   "source": [
    "<center>\n",
    "<a href=\"https://uv.bf/\" target=\"_parent\"><img src=\"logo.png\" alt=\"\" width=\"200\" height=\"240\"/></a>\n",
    "</center>"
   ]
  },
  {
   "cell_type": "code",
   "execution_count": 4,
   "metadata": {},
   "outputs": [
    {
     "data": {
      "text/plain": [
       "0    Burkina\n",
       "1       Faso\n",
       "2      Ghana\n",
       "3       Togo\n",
       "4       Mali\n",
       "5      Niger\n",
       "dtype: object"
      ]
     },
     "execution_count": 4,
     "metadata": {},
     "output_type": "execute_result"
    }
   ],
   "source": [
    "# Créer une Series à partir d'une liste de pays\n",
    "import numpy as np\n",
    "import pandas as pd\n",
    "countries_list = np.array(['Burkina', 'Faso', 'Ghana', 'Togo', 'Mali', 'Niger'])\n",
    "countries = pd.Series(countries_list)\n",
    "countries"
   ]
  },
  {
   "cell_type": "code",
   "execution_count": 5,
   "metadata": {},
   "outputs": [
    {
     "data": {
      "text/plain": [
       "0      red\n",
       "1    green\n",
       "2     blue\n",
       "dtype: object"
      ]
     },
     "execution_count": 5,
     "metadata": {},
     "output_type": "execute_result"
    }
   ],
   "source": [
    "colors_list = np.array(['red', 'green', 'blue'])\n",
    "colors = pd.Series(colors_list)\n",
    "colors"
   ]
  },
  {
   "cell_type": "code",
   "execution_count": 10,
   "metadata": {},
   "outputs": [
    {
     "ename": "SyntaxError",
     "evalue": "invalid syntax (<ipython-input-10-f8b7d535a048>, line 1)",
     "output_type": "error",
     "traceback": [
      "\u001b[1;36m  File \u001b[1;32m\"<ipython-input-10-f8b7d535a048>\"\u001b[1;36m, line \u001b[1;32m1\u001b[0m\n\u001b[1;33m    Identity = {\"Nom\": Traoré, \"Prenom\": Amadou, \"Age\": 55, \"Ville\": Bobo Dioulasso}\u001b[0m\n\u001b[1;37m                                                                                  ^\u001b[0m\n\u001b[1;31mSyntaxError\u001b[0m\u001b[1;31m:\u001b[0m invalid syntax\n"
     ]
    }
   ],
   "source": [
    "Identity = {\"Nom\": Traoré, \"Prenom\": Amadou, \"Age\": 55, \"Ville\": Bobo Dioulasso}\n",
    "Identity.keys()"
   ]
  },
  {
   "cell_type": "code",
   "execution_count": null,
   "metadata": {},
   "outputs": [],
   "source": []
  }
 ],
 "metadata": {
  "kernelspec": {
   "display_name": "Python 3",
   "language": "python",
   "name": "python3"
  },
  "language_info": {
   "codemirror_mode": {
    "name": "ipython",
    "version": 3
   },
   "file_extension": ".py",
   "mimetype": "text/x-python",
   "name": "python",
   "nbconvert_exporter": "python",
   "pygments_lexer": "ipython3",
   "version": "3.7.3"
  }
 },
 "nbformat": 4,
 "nbformat_minor": 2
}
